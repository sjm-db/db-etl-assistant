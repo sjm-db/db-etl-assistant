{
 "cells": [
  {
   "cell_type": "markdown",
   "id": "eddb0866",
   "metadata": {},
   "source": [
    "<h1>Auto ETL Assistant</h1>\n",
    "\n",
    "This notebook is meant as an entrypoint to use the Auto ETL Assistant. The assistant will write metadata descriptions for input tables and columns using ingested `yml` files structured in the following way:\n",
    "<br>\n",
    "\n",
    "```\n",
    "tables:\n",
    "        - name: foo\n",
    "            description: Description of the table\n",
    "            columns:\n",
    "            - name: column1\n",
    "                description: Description of column1\n",
    "            - name: column2\n",
    "                description: Description of column2\n",
    "        - name: bar\n",
    "            description: Description of another table\n",
    "            columns:\n",
    "            - name: columnA\n",
    "                description: Description of columnA\n",
    "```\n",
    "\n",
    "The underlying libraries are included, however, if you would like to process a directory of `yml` metadata and apply them to the associated tables in a single `catalog.schema` defined by the `SOURCE_CATALOG` and `SOURCE_SCHEMA` configuration variables below. Please fill in the global variables in the cell below and place your metadata in the `./metadata` directory in this repository. Alternatively, you can change the path to the metadata files in the global variables using the `PATH_TO_METADATA` config variable below.\n",
    "\n",
    "Use the `DESTINATION_CATALOG`, `DESTINATION_SCHEMA`, and `DESTINATION_TABLES` configuration variables to direct the assistant at the desitnation (silver, etc) tables you would like to be the target of the ETL process.\n",
    "\n",
    "This assistant will use the metadata associated with the source and destination tables to construct (and run, if approved) queries that will transform and load your input tables into your destination tables."
   ]
  },
  {
   "cell_type": "code",
   "execution_count": null,
   "id": "f2084b1c",
   "metadata": {},
   "outputs": [],
   "source": [
    "%pip install pyyaml"
   ]
  },
  {
   "cell_type": "code",
   "execution_count": null,
   "id": "56e68baa",
   "metadata": {},
   "outputs": [],
   "source": [
    "SOURCE_CATALOG = \"< your catalog name here >\"\n",
    "SOURCE_SCHEMA = \"< your schema name here>\"\n",
    "\n",
    "# Only change the following path if you have a different directory structure\n",
    "PATH_TO_METADATA = \"./metadata\"\n",
    "\n",
    "DESTINATION_CATALOG = \"< your destination catalog name here >\"\n",
    "DESTINATION_SCHEMA = \"< your destination schema name here >\"\n",
    "DESTINATION_TABLES = [\"< your destination table names here >\"]"
   ]
  },
  {
   "cell_type": "code",
   "execution_count": null,
   "id": "122a6414",
   "metadata": {},
   "outputs": [],
   "source": [
    "from utils.register_sql_functions import register_describe_table_function\n",
    "register_describe_table_function(catalog=SOURCE_CATALOG)"
   ]
  },
  {
   "cell_type": "code",
   "execution_count": null,
   "id": "6a4e6df9",
   "metadata": {},
   "outputs": [],
   "source": [
    "from utils.metadata_processor import process_metadata\n",
    "process_metadata(PATH_TO_METADATA, SOURCE_CATALOG, SOURCE_SCHEMA)"
   ]
  },
  {
   "cell_type": "code",
   "execution_count": null,
   "id": "2ea6f5ec",
   "metadata": {},
   "outputs": [],
   "source": [
    "# Run this cell to register the LLM ETL Agent\n",
    "result = dbutils.notebook.run(\"./agents/ua-genie-agents-etl-assist\", 500, {\"source_catalog\": SOURCE_CATALOG, \n",
    "                                                                          \"source_schema\": SOURCE_SCHEMA, \n",
    "                                                                          \"destination_catalog\": DESTINATION_CATALOG, \n",
    "                                                                          \"destination_schema\": DESTINATION_SCHEMA, \n",
    "                                                                          \"destination_tables\": DESTINATION_TABLES})"
   ]
  }
 ],
 "metadata": {
  "kernelspec": {
   "display_name": "db-etl-assistant",
   "language": "python",
   "name": "python3"
  },
  "language_info": {
   "name": "python",
   "version": "3.10.12"
  }
 },
 "nbformat": 4,
 "nbformat_minor": 5
}
