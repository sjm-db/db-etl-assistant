{
 "cells": [
  {
   "cell_type": "markdown",
   "id": "eddb0866",
   "metadata": {},
   "source": [
    "<h1>Table Description Metadata Writer</h1>\n",
    "\n",
    "This notebook is meant as an entrypoint to write metadata descriptions for tables and columns using ingested `yml` files structured in the following way:\n",
    "<br>\n",
    "\n",
    "```\n",
    "tables:\n",
    "        - name: foo\n",
    "            description: Description of the table\n",
    "            columns:\n",
    "            - name: column1\n",
    "                description: Description of column1\n",
    "            - name: column2\n",
    "                description: Description of column2\n",
    "        - name: bar\n",
    "            description: Description of another table\n",
    "            columns:\n",
    "            - name: columnA\n",
    "                description: Description of columnA\n",
    "```\n",
    "\n",
    "The underlying libraries are included, however, if you would like to process a directory of `yml` metadata and apply them to the associated tables in a single `catalog.schema`, fill in the global variables in the cell below and place your metadata in the `./metadata` directory in this repository. Alternatively, you can change the path to the metadata files in the global variables below."
   ]
  },
  {
   "cell_type": "code",
   "execution_count": null,
   "id": "f2084b1c",
   "metadata": {
    "vscode": {
     "languageId": "plaintext"
    }
   },
   "outputs": [],
   "source": [
    "%pip install pyyaml"
   ]
  },
  {
   "cell_type": "code",
   "execution_count": null,
   "id": "56e68baa",
   "metadata": {
    "vscode": {
     "languageId": "plaintext"
    }
   },
   "outputs": [],
   "source": [
    "CATALOG = \"< your catalog name here >\"\n",
    "SCHEMA = \"< your schema name here> \"\n",
    "PATH_TO_METADATA = \"./metadata\""
   ]
  },
  {
   "cell_type": "code",
   "execution_count": null,
   "id": "122a6414",
   "metadata": {
    "vscode": {
     "languageId": "plaintext"
    }
   },
   "outputs": [],
   "source": [
    "# Register the describe_table function for use by the agentic model\n",
    "sql = f\"\"\"\n",
    "CREATE OR REPLACE FUNCTION {CATALOG}.{SCHEMA}.describe_table(cat STRING, sch STRING, tbl STRING)\n",
    "RETURNS TABLE(column_name STRING, data_type STRING, is_nullable STRING, comment STRING, ordinal_position INT)\n",
    "RETURN\n",
    "SELECT\n",
    "  c.column_name,\n",
    "  c.data_type,\n",
    "  c.is_nullable,\n",
    "  c.comment,\n",
    "  c.ordinal_position\n",
    "FROM system.information_schema.columns AS c\n",
    "WHERE c.table_catalog = cat\n",
    "  AND c.table_schema = sch\n",
    "  AND c.table_name = tbl\n",
    "ORDER BY c.ordinal_position\n",
    "\"\"\"\n",
    "\n",
    "spark.sql(sql)"
   ]
  },
  {
   "cell_type": "code",
   "execution_count": null,
   "id": "6a4e6df9",
   "metadata": {
    "vscode": {
     "languageId": "plaintext"
    }
   },
   "outputs": [],
   "source": [
    "from utils.metadata_processor import process_metadata\n",
    "\n",
    "process_metadata(PATH_TO_METADATA, CATALOG, SCHEMA)"
   ]
  }
 ],
 "metadata": {
  "language_info": {
   "name": "python"
  }
 },
 "nbformat": 4,
 "nbformat_minor": 5
}
